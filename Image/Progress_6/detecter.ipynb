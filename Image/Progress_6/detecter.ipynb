{
 "cells": [
  {
   "cell_type": "code",
   "execution_count": 1,
   "metadata": {},
   "outputs": [],
   "source": [
    "import cv2\n",
    "from facenet_pytorch import MTCNN\n",
    "from PIL import Image\n",
    "import numpy as np\n",
    "\n",
    "def detect_and_crop_face(image_path):\n",
    "    # Initialize the MTCNN for face detection.\n",
    "    mtcnn = MTCNN(keep_all=True, device='cuda')\n",
    "    \n",
    "    # Read the image and convert its color space from BGR to RGB.\n",
    "    img = cv2.imread(image_path)\n",
    "    img = cv2.cvtColor(img, cv2.COLOR_BGR2RGB)\n",
    "    \n",
    "    # Detect faces in the image using MTCNN.\n",
    "    boxes, _ = mtcnn.detect(img)\n",
    "    \n",
    "    # Crop the detected faces from the image.\n",
    "    if boxes is not None and len(boxes) > 0:\n",
    "        cropped_faces = []\n",
    "        for box in boxes:\n",
    "            box = box.astype(int)  # Ensure the box coordinates are integers.\n",
    "            cropped_face = img[box[1]:box[3], box[0]:box[2]]  # Crop the face from the image.\n",
    "            cropped_faces.append(cropped_face)  # Add the cropped face to the list.\n",
    "        return cropped_faces  # Return the list of cropped faces.\n",
    "    else:\n",
    "        # Return None if no faces were detected.\n",
    "        return None\n",
    "\n",
    "# Example usage\n",
    "image_path = '3.png'  # Replace with your image path.\n",
    "cropped_faces = detect_and_crop_face(image_path)\n",
    "\n",
    "if cropped_faces is not None:\n",
    "    for i, face in enumerate(cropped_faces):\n",
    "        face_img = Image.fromarray(face)  # Convert the numpy array to a PIL Image.\n",
    "        face_img.show()  # Display the cropped face.\n",
    "        # Optionally, save the cropped face to a file.\n",
    "        face_img.save(f'cropped_face_{i}.png')\n",
    "else:\n",
    "    print(\"No faces were detected.\")\n"
   ]
  }
 ],
 "metadata": {
  "kernelspec": {
   "display_name": "project733",
   "language": "python",
   "name": "python3"
  },
  "language_info": {
   "codemirror_mode": {
    "name": "ipython",
    "version": 3
   },
   "file_extension": ".py",
   "mimetype": "text/x-python",
   "name": "python",
   "nbconvert_exporter": "python",
   "pygments_lexer": "ipython3",
   "version": "3.10.14"
  }
 },
 "nbformat": 4,
 "nbformat_minor": 2
}
